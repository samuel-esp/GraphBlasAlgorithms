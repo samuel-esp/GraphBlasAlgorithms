{
 "cells": [
  {
   "cell_type": "code",
   "execution_count": 1,
   "id": "44a66131",
   "metadata": {},
   "outputs": [],
   "source": [
    "using SuiteSparseGraphBLAS\n",
    "using SparseArrays"
   ]
  },
  {
   "cell_type": "code",
   "execution_count": 300,
   "id": "0b44db4b",
   "metadata": {},
   "outputs": [
    {
     "data": {
      "text/plain": [
       "clearfrontier (generic function with 3 methods)"
      ]
     },
     "execution_count": 300,
     "metadata": {},
     "output_type": "execute_result"
    }
   ],
   "source": [
    "function clearfrontier(n)\n",
    "    frontier = GBVector{Bool}(n)\n",
    "        for i = 1:n\n",
    "            frontier[i] = true\n",
    "        end\n",
    "    return frontier\n",
    "end\n",
    "    "
   ]
  },
  {
   "cell_type": "code",
   "execution_count": 361,
   "id": "4b840681",
   "metadata": {},
   "outputs": [
    {
     "data": {
      "text/plain": [
       "bfs_level (generic function with 1 method)"
      ]
     },
     "execution_count": 361,
     "metadata": {},
     "output_type": "execute_result"
    }
   ],
   "source": [
    "#A is the input matrix, s is the source node, and n is the number of nodes\n",
    "function bfs_level(A, s, n)\n",
    "     \n",
    "    #vector init\n",
    "    frontier = GBVector{Bool}(n)\n",
    "        for i = 1:n\n",
    "            frontier[i] = false\n",
    "        end\n",
    "    \n",
    "    #init result vector\n",
    "    distance = GBVector{Int64}(n)\n",
    "        for i = 1:n\n",
    "            distance[i] = 0\n",
    "        end\n",
    "    \n",
    "    #putting source node inside the frontier\n",
    "    frontier[s]= true\n",
    "    \n",
    "    print(\"starting from source node\\n\\n\")\n",
    "    for level = 1:n\n",
    "            print(frontier)\n",
    "            distance[frontier] .= level\n",
    "            frontier = mul(frontier, A, Semirings.ANY_PAIR, mask=distance, desc=Descriptors.C)\n",
    "            print(distance)\n",
    "    end\n",
    "    \n",
    "end\n"
   ]
  },
  {
   "cell_type": "code",
   "execution_count": 1,
   "id": "4116de73",
   "metadata": {},
   "outputs": [
    {
     "ename": "LoadError",
     "evalue": "UndefVarError: GBMatrix not defined",
     "output_type": "error",
     "traceback": [
      "UndefVarError: GBMatrix not defined",
      "",
      "Stacktrace:",
      " [1] top-level scope",
      "   @ In[1]:11",
      " [2] eval",
      "   @ ./boot.jl:360 [inlined]",
      " [3] include_string(mapexpr::typeof(REPL.softscope), mod::Module, code::String, filename::String)",
      "   @ Base ./loading.jl:1116"
     ]
    }
   ],
   "source": [
    "#0, 1, 1, 1, 0, 0, 0, \n",
    "#0, 0, 0, 0, 0, 0, 0, \n",
    "#0, 0, 0, 0, 0, 0, 0, \n",
    "#0, 0, 0, 0, 0, 1, 0, \n",
    "#0, 0, 0, 0, 0, 0, 0, \n",
    "#0, 0, 0, 0, 0, 0, 1, \n",
    "#0, 0, 0, 0, 1, 0, 0, \n",
    "\n",
    "\n",
    "matrix =  GBMatrix([[false, false, false, false, false, false, false] [true, false, false, false, false, false, false] [true, false, false, false, false, false, false] [true, false, false, false, false, false, false] [false, false, false, false, false, false, true] [false, false, false, true, false, false, false] [false, false, false, false, false, true, false]])\n",
    "matrix_integer =  GBMatrix([[0, 0, 0, 0, 0, 0, 0] [1, 0, 0, 0, 0, 0, 0] [1, 0, 0, 0, 0, 0, 0] [1, 0, 0, 0, 0, 0, 0] [0, 0, 0, 0, 0, 0, 1] [0, 0, 0, 1, 0, 0, 0] [0, 0, 0, 0, 0, 1, 0]])\n",
    "bfs_level(matrix, 1, 7)"
   ]
  },
  {
   "cell_type": "code",
   "execution_count": null,
   "id": "be688102",
   "metadata": {},
   "outputs": [],
   "source": []
  }
 ],
 "metadata": {
  "kernelspec": {
   "display_name": "Julia 1.6.2",
   "language": "julia",
   "name": "julia-1.6"
  },
  "language_info": {
   "file_extension": ".jl",
   "mimetype": "application/julia",
   "name": "julia",
   "version": "1.6.2"
  }
 },
 "nbformat": 4,
 "nbformat_minor": 5
}
