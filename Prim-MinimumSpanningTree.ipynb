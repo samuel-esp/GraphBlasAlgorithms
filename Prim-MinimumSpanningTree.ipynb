{
 "cells": [
  {
   "cell_type": "markdown",
   "id": "6cf25a9f",
   "metadata": {},
   "source": [
    "## Prim Algorithm - Minimum Spanning Tree (Julia - Graph Blas Library)"
   ]
  },
  {
   "cell_type": "code",
   "execution_count": 126,
   "id": "b9bd2573",
   "metadata": {},
   "outputs": [],
   "source": [
    "using SuiteSparseGraphBLAS\n",
    "using SparseArrays"
   ]
  },
  {
   "cell_type": "code",
   "execution_count": 127,
   "id": "a48d2bd2",
   "metadata": {},
   "outputs": [
    {
     "data": {
      "text/plain": [
       "stoppingCondition (generic function with 1 method)"
      ]
     },
     "execution_count": 127,
     "metadata": {},
     "output_type": "execute_result"
    }
   ],
   "source": [
    "function stoppingCondition(m, n)\n",
    "\n",
    "infinito = true\n",
    "    \n",
    "for i = 1:n\n",
    "        if(m[i] == 0.0)\n",
    "            return false\n",
    "    end\n",
    "end\n",
    "    return infinito\n",
    "end"
   ]
  },
  {
   "cell_type": "code",
   "execution_count": 128,
   "id": "6db41a8a",
   "metadata": {},
   "outputs": [
    {
     "data": {
      "text/plain": [
       "prim (generic function with 1 method)"
      ]
     },
     "execution_count": 128,
     "metadata": {},
     "output_type": "execute_result"
    }
   ],
   "source": [
    "#A is the input matrix, s is the source node, n is the number of nodes \n",
    "function prim(A, n)\n",
    "    \n",
    "    m = GBVector([Inf, 0.0, 0.0, 0.0])\n",
    "    d = GBVector{Float64}(n)\n",
    "    \n",
    "    weight = 0.0\n",
    "    \n",
    "    d = A[1,:]\n",
    "    print(\"INITIAL WEIGHT: \")\n",
    "    print(weight)\n",
    "    print(\"\\n\\n\")\n",
    "    while(stoppingCondition(m, n) == false)\n",
    "        \n",
    "        u = argmin(m'+d)\n",
    "        m[u[2]] = Inf\n",
    "        weight = weight + d[u[2]]\n",
    "        print(\"WEIGHT: \")\n",
    "        print(weight)\n",
    "        d = emul(d, A[u[1],:],  BinaryOps.MIN)\n",
    "        print(\"  ITERATION FINISHED\")\n",
    "        print(\"\\n\\n\\n\")\n",
    "    end\n",
    "    \n",
    "    print(\"COMPLETED\")\n",
    "    print(\" ALL THE NODES HAVE BEEN PROCESSED (INF)\")\n",
    "    print(\"\\n\\n\\n\")\n",
    "    print(m')\n",
    "    \n",
    "end"
   ]
  },
  {
   "cell_type": "markdown",
   "id": "896fb952",
   "metadata": {},
   "source": [
    "## Test\n"
   ]
  },
  {
   "cell_type": "code",
   "execution_count": 125,
   "id": "b6221aac",
   "metadata": {},
   "outputs": [
    {
     "name": "stdout",
     "output_type": "stream",
     "text": [
      "INITIAL WEIGHT: 0.0\n",
      "\n",
      "WEIGHT: 5.0  ITERATION FINISHED\n",
      "\n",
      "\n",
      "WEIGHT: 10.0  ITERATION FINISHED\n",
      "\n",
      "\n",
      "WEIGHT: 17.0  ITERATION FINISHED\n",
      "\n",
      "\n",
      "COMPLETED ALL THE NODES HAVE BEEN PROCESSED (INF)\n",
      "\n",
      "\n",
      "[Inf Inf Inf Inf]"
     ]
    }
   ],
   "source": [
    "#0, 7, 5, 5, \n",
    "#7, 0, 0, 0, \n",
    "#5, 0, 0, 0, \n",
    "#5, 0, 0, 0, \n",
    "\n",
    "#DESIRED OUTPUT: 17\n",
    "\n",
    "matrix =  GBMatrix([[0.0, 7.0, 5.0, 5.0] [7.0, 0.0, 0.0, 0.0] [5.0, 0.0, 0.0, 0.0] [5.0, 0.0, 0.0, 0.0]])\n",
    "prim(matrix, 4)"
   ]
  },
  {
   "cell_type": "code",
   "execution_count": 17,
   "id": "8b229128",
   "metadata": {},
   "outputs": [],
   "source": []
  },
  {
   "cell_type": "code",
   "execution_count": 21,
   "id": "29f647a3",
   "metadata": {},
   "outputs": [
    {
     "name": "stdout",
     "output_type": "stream",
     "text": [
      "[0.0 7.0 5.0 5.0][0.0 Inf 5.0 5.0]\n",
      "\n",
      "\n",
      "[7.0; 0.0; 0.0; 0.0]\n",
      "\n",
      "\n",
      "[7.0; Inf; 5.0; 5.0]\n",
      "\n",
      "\n",
      "1x1 GraphBLAS double vector, bitmap by col\n",
      "  1 entry, memory: 272 bytes\n",
      "\n",
      "    (1,1)    5\n",
      "ciao"
     ]
    }
   ],
   "source": [
    "aj = matrix[1,:]\n",
    "bj = matrix[:,2]\n",
    "print(aj)\n",
    "aj[2] = Inf\n",
    "print(aj)\n",
    "print(\"\\n\\n\\n\")\n",
    "print(bj)\n",
    "print(\"\\n\\n\\n\")\n",
    "print(aj'+bj)\n",
    "print(\"\\n\\n\\n\")\n",
    "#print(emul(bj', aj,  BinaryOps.MIN))\n",
    "a = reduce(Monoids.MIN_MONOID, aj'+ bj; dims=1)\n",
    "print(a)\n",
    "print(\"ciao\")\n",
    "#[Inf 0.0 0.0 0.0][0.0 3.0 4.0 1.0]"
   ]
  },
  {
   "cell_type": "code",
   "execution_count": null,
   "id": "7193e6bb",
   "metadata": {},
   "outputs": [],
   "source": [
    "#A is the input matrix, s is the source node, n is the number of nodes \n",
    "function prim(A, n)\n",
    "    \n",
    "    #m is a membership set => m[i] = 0 if the node is not inside the set, m[i] = Inf if the node is inside the set\n",
    "    #the set starts empty\n",
    "    #m = GBVector{Float64}(n)\n",
    "        #for i = 1:n\n",
    "            #m[i] = 0.0\n",
    "        #end\n",
    "    #temp = GBMatrix([[Inf, 0.0, 0.0, 0.0] [0.0, 0.0, 0.0, 0.0] [0.0, 0.0, 0.0, 0.0] [0.0, 0.0, 0.0, 0.0]])\n",
    "    #m = temp[1,:]\n",
    "    m = GBVector([Inf, 0.0, 0.0, 0.0])\n",
    "    d = GBVector{Float64}(n)\n",
    "    \n",
    "    weight = 0.0\n",
    "    \n",
    "    #inserting the first node of the computation \n",
    "    #m[1] = Inf\n",
    "    d = A[1,:]\n",
    "    i=0\n",
    "    print(\"INITIAL WEIGHT: \")\n",
    "    print(weight)\n",
    "    print(\"\\n\\n\")\n",
    "    while(i!=3)#stoppingCondition(m, n) == false)\n",
    "        i = i+1\n",
    "        #print(d)\n",
    "        #print(m') #m'\n",
    "        u = argmin(m'+d)#reduce(Monoids.MIN_MONOID, m + d; dims=1)\n",
    "        #print(u[2])\n",
    "        #u = d+m'\n",
    "        #print(u)\n",
    "        #print(reduce(min, u; dims=2))\n",
    "        #u = reduce(min, d+m'; dims=2)\n",
    "        #print(\"Fatto\\n\\n\\n\\n\")\n",
    "        #print(\"\\n\\n\")\n",
    "        #print(m)\n",
    "        #s = floor(Int8,u[1])\n",
    "        #print(s)\n",
    "        m[u[2]] = Inf\n",
    "        #print(m)\n",
    "        #print(\"\\n\\n\\n\")\n",
    "        #print(\"WEIGHT\\n\\n\\n\")\n",
    "        #print(d[u[1]])\n",
    "        weight = weight + d[u[2]]\n",
    "        print(\"WEIGHT: \")\n",
    "        print(weight)\n",
    "        #print(d)\n",
    "        #print(A[u[1],:])\n",
    "        d = emul(d, A[u[1],:],  BinaryOps.MIN)\n",
    "        #print(d)\n",
    "        #print(m)\n",
    "        #print(\"\\n\\n\\n\")\n",
    "        print(\"  ITERATION FINISHED\")\n",
    "        print(\"\\n\\n\\n\")\n",
    "        #print(weight)\n",
    "    end\n",
    "    \n",
    "    print(\"COMPLETED\")\n",
    "    \n",
    "end"
   ]
  },
  {
   "cell_type": "code",
   "execution_count": null,
   "id": "d001a79a",
   "metadata": {},
   "outputs": [],
   "source": []
  }
 ],
 "metadata": {
  "kernelspec": {
   "display_name": "Julia 1.6.2",
   "language": "julia",
   "name": "julia-1.6"
  },
  "language_info": {
   "file_extension": ".jl",
   "mimetype": "application/julia",
   "name": "julia",
   "version": "1.6.2"
  }
 },
 "nbformat": 4,
 "nbformat_minor": 5
}
