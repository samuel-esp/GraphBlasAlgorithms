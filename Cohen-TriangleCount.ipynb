{
 "cells": [
  {
   "cell_type": "markdown",
   "id": "dd2fe3bf",
   "metadata": {},
   "source": [
    "## Cohen Algorithm - Triangle Count (Julia - Graph Blas Library)"
   ]
  },
  {
   "cell_type": "code",
   "execution_count": 1,
   "id": "40d6c7af",
   "metadata": {},
   "outputs": [],
   "source": [
    "using SuiteSparseGraphBLAS\n",
    "using SparseArrays\n",
    "using LinearAlgebra"
   ]
  },
  {
   "cell_type": "code",
   "execution_count": 80,
   "id": "cfc113b9",
   "metadata": {},
   "outputs": [
    {
     "data": {
      "text/plain": [
       "cohen (generic function with 2 methods)"
      ]
     },
     "execution_count": 80,
     "metadata": {},
     "output_type": "execute_result"
    }
   ],
   "source": [
    "#A is the input matrix for Floyd-Warshall multiple sources multiple destinations \n",
    "function cohen(A)\n",
    "     \n",
    "    #extracting lower matrix from input matrix\n",
    "    L = tril!(A)\n",
    "\n",
    "\n",
    "    #extracting upper matrix from input matrix\n",
    "    U = triu!(A')\n",
    "    \n",
    "    B = mul(L, U, Semirings.PLUS_TIMES)\n",
    "    C = emul(B, A,  BinaryOps.TIMES)\n",
    "    result = reduce(Monoids.PLUS_MONOID[Float64], C, dims=:)\n",
    "    \n",
    "    print(\"RESULT \")\n",
    "    print(result)\n",
    "    \n",
    "end"
   ]
  },
  {
   "cell_type": "markdown",
   "id": "b83378a1",
   "metadata": {},
   "source": [
    "## Test"
   ]
  },
  {
   "cell_type": "code",
   "execution_count": 83,
   "id": "3231fdf9",
   "metadata": {},
   "outputs": [
    {
     "name": "stdout",
     "output_type": "stream",
     "text": [
      "RESULT 3"
     ]
    }
   ],
   "source": [
    "#0, 1, 1, 0, 0, \n",
    "#1, 0, 1, 1, 1, \n",
    "#1, 1, 0, 0, 1, \n",
    "#0, 1, 0, 0, 1, \n",
    "#0, 1, 1, 1, 0,\n",
    "\n",
    "#EXPECTED OUTPUT: 3\n",
    "\n",
    "matrix =  GBMatrix([[0, 1, 1, 0, 0] [1, 0, 1, 1, 1] [1, 1, 0, 0, 1] [0, 1, 0, 0, 1] [0, 1, 1, 1, 0]])\n",
    "cohen(matrix)"
   ]
  }
 ],
 "metadata": {
  "kernelspec": {
   "display_name": "Julia 1.6.2",
   "language": "julia",
   "name": "julia-1.6"
  },
  "language_info": {
   "file_extension": ".jl",
   "mimetype": "application/julia",
   "name": "julia",
   "version": "1.6.2"
  }
 },
 "nbformat": 4,
 "nbformat_minor": 5
}
