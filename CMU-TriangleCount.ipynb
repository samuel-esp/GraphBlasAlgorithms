{
 "cells": [
  {
   "cell_type": "markdown",
   "id": "09c4e984",
   "metadata": {},
   "source": [
    "## CMU Algorithm - Triangle Count (Julia - Graph Blas Library)"
   ]
  },
  {
   "cell_type": "code",
   "execution_count": 8,
   "id": "0dde0b58",
   "metadata": {},
   "outputs": [],
   "source": [
    "using SuiteSparseGraphBLAS\n",
    "using SparseArrays\n",
    "using LinearAlgebra"
   ]
  },
  {
   "cell_type": "code",
   "execution_count": 71,
   "id": "cbacbae5",
   "metadata": {},
   "outputs": [
    {
     "data": {
      "text/plain": [
       "cmu (generic function with 1 method)"
      ]
     },
     "execution_count": 71,
     "metadata": {},
     "output_type": "execute_result"
    }
   ],
   "source": [
    "#A is the input matrix for Floyd-Warshall multiple sources multiple destinations \n",
    "function cmu(A, n)\n",
    "    \n",
    "        t = 0\n",
    "    \n",
    "        for i = 2:n-1\n",
    "        \n",
    "            A20 = A[i+1:end,begin:i-1]\n",
    "            a10 = A[begin:i-1, i:i]\n",
    "            a12 = A[i:i, i+1:end]\n",
    "        \n",
    "            partial1 = mul(a10', A20', Semirings.PLUS_TIMES)\n",
    "            partial2 = mul(partial1, a12', Semirings.PLUS_TIMES)\n",
    "        \n",
    "            t = t + partial2[1]\n",
    "    end\n",
    "    \n",
    "    print(\"RESULT: \")\n",
    "    print(t)\n",
    "\n",
    "end"
   ]
  },
  {
   "cell_type": "markdown",
   "id": "5e06a139",
   "metadata": {},
   "source": [
    "## Test"
   ]
  },
  {
   "cell_type": "code",
   "execution_count": 72,
   "id": "6d68336b",
   "metadata": {},
   "outputs": [
    {
     "name": "stdout",
     "output_type": "stream",
     "text": [
      "RESULT: 3"
     ]
    }
   ],
   "source": [
    "#0, 1, 1, 0, 0, \n",
    "#1, 0, 1, 1, 1, \n",
    "#1, 1, 0, 0, 1, \n",
    "#0, 1, 0, 0, 1, \n",
    "#0, 1, 1, 1, 0,\n",
    "\n",
    "#EXPECTED OUTPUT: 3\n",
    "\n",
    "matrix =  GBMatrix([[0, 1, 1, 0, 0] [1, 0, 1, 1, 1] [1, 1, 0, 0, 1] [0, 1, 0, 0, 1] [0, 1, 1, 1, 0]])\n",
    "cmu(matrix, 5)"
   ]
  }
 ],
 "metadata": {
  "kernelspec": {
   "display_name": "Julia 1.6.2",
   "language": "julia",
   "name": "julia-1.6"
  },
  "language_info": {
   "file_extension": ".jl",
   "mimetype": "application/julia",
   "name": "julia",
   "version": "1.6.2"
  }
 },
 "nbformat": 4,
 "nbformat_minor": 5
}
